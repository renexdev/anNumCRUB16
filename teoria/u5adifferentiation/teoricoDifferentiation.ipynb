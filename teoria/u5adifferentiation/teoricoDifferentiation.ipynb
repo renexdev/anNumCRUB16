{
 "cells": [
  {
   "cell_type": "markdown",
   "metadata": {},
   "source": [
    "Dr. René Cejas Bolecek, 2016\n",
    "Análisis Numérico del Profesorado y Licenciatura en Matemáticas de la Universidad de Comahue Regional Bariloche, Argentina\n",
    "\n",
    "https://github.com/renexdev/anNumCRUB16"
   ]
  },
  {
   "cell_type": "markdown",
   "metadata": {},
   "source": [
    "# Numerical Differentiation"
   ]
  },
  {
   "cell_type": "markdown",
   "metadata": {},
   "source": [
    "- [Central Difference Approximations](#Central Difference Approximations)\n",
    "- [Non Central Difference Approximations](#Non Central Difference Approximations)\n",
    "- [Derivatives by Interpolation](#Derivatives by Interpolation)"
   ]
  },
  {
   "cell_type": "markdown",
   "metadata": {},
   "source": [
    "# Central Difference Approximation (CDA)"
   ]
  },
  {
   "cell_type": "code",
   "execution_count": 2,
   "metadata": {
    "collapsed": false
   },
   "outputs": [
    {
     "name": "stdout",
     "output_type": "stream",
     "text": [
      "Ejemplo cálculo de f''(x) de f(x)= exp(-x) en x=1 con CFA\n",
      "h\tf''(x)\t\terror_r (%)\n",
      "------------------------------\n",
      "0.64 \t 0.38060910 3.46027914\n",
      "0.32 \t 0.37102941 0.85625138\n",
      "0.16 \t 0.36866492 0.21351546\n",
      "0.08 \t 0.36807569 0.05334471\n",
      "0.04 \t 0.36792849 0.01333404\n",
      "0.02 \t 0.36789170 0.00333338\n",
      "0.01 \t 0.36788251 0.00083334\n",
      "0.005 \t 0.36788021 0.00020833\n",
      "0.0025 \t 0.36787963 0.00005208\n",
      "0.00125 \t 0.36787949 0.00001301\n",
      "0.000625 \t 0.36787945 0.00000321\n",
      "0.0003125 \t 0.36787944 0.00000097\n",
      "0.00015625 \t 0.36787944 -0.00000055\n",
      "7.8125e-05 \t 0.36787944 -0.00000156\n",
      "3.90625e-05 \t 0.36787942 -0.00000561\n",
      "1.953125e-05 \t 0.36787939 -0.00001372\n",
      "9.765625e-06 \t 0.36787939 -0.00001372\n",
      "4.8828125e-06 \t 0.36787415 -0.00143951\n",
      "2.44140625e-06 \t 0.36786652 -0.00351340\n",
      "1.220703125e-06 \t 0.36782837 -0.01388282\n",
      "6.103515625e-07 \t 0.36791992 0.01100380\n",
      "3.0517578125e-07 \t 0.36718750 -0.18808911\n",
      "1.52587890625e-07 \t 0.36718750 -0.18808911\n",
      "7.62939453125e-08 \t 0.35937500 -2.31174679\n",
      "3.81469726563e-08 \t 0.31250000 -15.05369286\n",
      "1.90734863281e-08 \t 0.25000000 -32.04295429\n",
      "9.53674316406e-09 \t 0.00000000 -100.00000000\n",
      "4.76837158203e-09 \t 0.00000000 -100.00000000\n",
      "2.38418579102e-09 \t -8.00000000 -2274.62546277\n",
      "1.19209289551e-09 \t -32.00000000 -8798.50185107\n",
      "5.96046447754e-10 \t -128.00000000 -34894.00740428\n",
      "2.98023223877e-10 \t 0.00000000 -100.00000000\n",
      "1.49011611938e-10 \t -6144.00000000 -1670212.35540524\n",
      "7.45058059692e-11 \t 0.00000000 -100.00000000\n",
      "3.72529029846e-11 \t -32768.00000000 -8907365.89549460\n",
      "1.86264514923e-11 \t -131072.00000000 -35629163.58197840\n",
      "9.31322574615e-12 \t 0.00000000 -100.00000000\n",
      "4.65661287308e-12 \t -2097152.00000000 -570065117.31165433\n",
      "2.32830643654e-12 \t -16777216.00000000 -4560520238.49323559\n",
      "1.16415321827e-12 \t 0.00000000 -100.00000000\n"
     ]
    }
   ],
   "source": [
    "import numpy as np\n",
    "from math import exp\n",
    "\n",
    "h = np.array([0.64/2**i for i in range(0,40)])\n",
    "\n",
    "fn = lambda x: exp(-x)\n",
    "\n",
    "\n",
    "fnCFD = lambda x, h: np.array([fn(x-2*h),fn(x-h),fn(x),fn(x+h),fn(x+2*h)])\n",
    "\n",
    "\n",
    "fnCFD2Coef = lambda h: np.array([0,1/h**2,-2/h**2,1/h**2,0])\n",
    "\n",
    "print(\"Ejemplo cálculo de f''(x) de f(x)= exp(-x) en x=1 con CFA\")\n",
    "\n",
    "for j in range(len(h)):\n",
    "        if(j==0): print(\"h\\tf''(x)\\t\\terror_r (%)\\n------------------------------\")\n",
    "        print(h[j],\"\\t\",\"%.8f\"%(sum(np.array([fnCFD(1,h[j])[i]*fnCFD2Coef(h[j])[i] for i in range(4)]))) ,\"%.8f\"%((sum(np.array([fnCFD(1,h[j])[i]*fnCFD2Coef(h[j])[i] for i in range(4)]))-exp(-1))/exp(-1)*100.))\n"
   ]
  },
  {
   "cell_type": "markdown",
   "metadata": {},
   "source": [
    "# Richardson Extrapolation"
   ]
  },
  {
   "cell_type": "code",
   "execution_count": 30,
   "metadata": {
    "collapsed": false,
    "scrolled": true
   },
   "outputs": [
    {
     "name": "stdout",
     "output_type": "stream",
     "text": [
      "g1: 0.38060910 g2: 0.37102941 G: 0.36783619 \n",
      "Errores porcentuales\n",
      "E_g1: 3.46027914 E_g2: 0.85625138 E_G: 0.01175788\n"
     ]
    }
   ],
   "source": [
    "G = lambda h1,h2,g1,g2,p: ((h1/h2)**p*g2-g1)/((h1/h2)**p-1)\n",
    "error100 = lambda fabs,fnum: abs(fnum-fabs)/fabs*100.\n",
    "h1 = 0.64\n",
    "h2 = h1*0.5\n",
    "g1 = sum(np.array([fnCFD(1,h1)[i]*fnCFD2Coef(h1)[i] for i in range(4)]))\n",
    "g2 = sum(np.array([fnCFD(1,h2)[i]*fnCFD2Coef(h2)[i] for i in range(4)]))\n",
    "print \"g1: %.8f g2: %.8f G: %.8f \"% (g1,g2,G(h1,h2,g1,g2,2))\n",
    "print \"Errores porcentuales\"\n",
    "print \"E_g1: %.8f E_g2: %.8f E_G: %.8f\"% (error100(fn(1),g1),error100(fn(1),g2),error100(fn(1),G(h1,h2,g1,g2,2)))\n",
    "\n"
   ]
  },
  {
   "cell_type": "markdown",
   "metadata": {
    "collapsed": true,
    "raw_mimetype": "text/markdown"
   },
   "source": [
    "$\\textbf{Tareas}$: \n",
    "- arme un módulo del método de CFA fácil de importar en sus cálculos\n",
    "- implementar una version para calcular CFA con derivadas 3era y 4ta\n",
    "- aplicar a las funciones exp(-x) y sin(x)\n"
   ]
  },
  {
   "cell_type": "markdown",
   "metadata": {},
   "source": [
    "# Polynomial Interpolant"
   ]
  },
  {
   "cell_type": "code",
   "execution_count": 7,
   "metadata": {
    "collapsed": false
   },
   "outputs": [
    {
     "name": "stdout",
     "output_type": "stream",
     "text": [
      "[ 0.         -0.4258431  -0.37744139 -0.38796663 -0.55400477  0.        ]\n"
     ]
    },
    {
     "data": {
      "text/plain": [
       "[<matplotlib.lines.Line2D at 0x7febf7742550>]"
      ]
     },
     "execution_count": 7,
     "metadata": {},
     "output_type": "execute_result"
    },
    {
     "data": {
      "image/png": "[encoded data removed]",
      "text/plain": [
       "<matplotlib.figure.Figure at 0x7fec18910d10>"
      ]
     },
     "metadata": {},
     "output_type": "display_data"
    }
   ],
   "source": [
    "import sys\n",
    "sys.path.append(\"./../../modules/\")\n",
    "from numpy import array\n",
    "import numpy as np\n",
    "from cubicSpline import curvatures\n",
    "from LUdecomp3 import *\n",
    "import matplotlib.pyplot as plt\n",
    "\n",
    "%matplotlib inline\n",
    "\n",
    "xData = array([1.5, 1.9, 2.1, 2.4, 2.6, 3.1])\n",
    "yData = array([1.0628, 1.3961, 1.5432, 1.7349, 1.8423, 2.0397])\n",
    "print curvatures(xData,yData)\n",
    "plt.plot(xData, yData, 'o')\n"
   ]
  },
  {
   "cell_type": "code",
   "execution_count": 4,
   "metadata": {
    "collapsed": false
   },
   "outputs": [
    {
     "name": "stdout",
     "output_type": "stream",
     "text": [
      "[ 0.   0.2  0.4  0.6  0.8  1.   1.2  1.4]\n",
      "Probar aumentando el grado de m de LSF que minimice la desviacion std\n",
      "\n",
      "Degree of polynomial ==> 4\n",
      "Coefficients are:\n",
      "[ 1.99185568  1.10282373 -1.59056108  0.44812973 -0.01532907]\n",
      "Std. deviation = 0.00951925073521\n",
      "x_mean = 0.7  y_mean = 1.9874375\n"
     ]
    },
    {
     "data": {
      "image/png": "[encoded data removed]",
      "text/plain": [
       "<matplotlib.figure.Figure at 0x7f1f54f8ed90>"
      ]
     },
     "metadata": {},
     "output_type": "display_data"
    },
    {
     "name": "stdout",
     "output_type": "stream",
     "text": [
      "Derivada en x=0\n",
      "Derivada de  (x+2.)/np.cosh(x) en x=0\n",
      "evaluado:  1.0\n",
      "numerico:  1.10282372835\n",
      "Derivada de  (x+2.)/np.cosh(x) en x=1\n",
      "evaluado:  -0.83260876903\n",
      "numerico:  -0.79522551407\n"
     ]
    }
   ],
   "source": [
    "import sys\n",
    "sys.path.append(\"./../../modules/\")\n",
    "from numpy import array\n",
    "import numpy as np\n",
    "from polyFit import *\n",
    "import matplotlib.pyplot as plt\n",
    "\n",
    "%matplotlib inline\n",
    "\n",
    "f = lambda x: (x+2.)/np.cosh(x)\n",
    "dfdx = lambda x: (1-(x+2.)*np.tanh(x))/np.cosh(x)\n",
    "lsf_dfdx = lambda x,coeff: sum(coeff[i+1]*(i+1)*x**i for i in range(len(coeff)-1) )\n",
    "\n",
    "xData = np.array([0.2*i for i in range(0,8)])\n",
    "print xData\n",
    "\n",
    "yData = array([1.9934, 2.1465, 2.2129, 2.1790, 2.0683, 1.9448, 1.7655,1.5891])\n",
    "\n",
    "xPlot = np.linspace(min(xData), max(xData), num=100)\n",
    "print \"Probar aumentando el grado de m de LSF que minimice la desviacion std\"\n",
    "m = eval(raw_input(\"\\nDegree of polynomial ==> \"))\n",
    "coeff = polyFit(xData,yData,m)\n",
    "print \"Coefficients are:\\n\",coeff\n",
    "print \"Std. deviation =\",stdDev(coeff,xData,yData)\n",
    "print \"x_mean =\",mean(xData),\" y_mean =\",mean(yData)\n",
    "#lsf = lambda x: coeff[i]*x**i for i in range(len(coeff)) # Target function\"\n",
    "yPlot = array([ sum([p[1]*(xPlot[i]**p[0]) for p in enumerate(coeff)]) for i in range(len(xPlot)) ])\n",
    "plt.plot(xData, yData, 'o', xPlot, yPlot , '-',xData,f(xData),'k')\n",
    "plt.legend(['data of (x+2.)/np.cosh(x) with noise', 'lsf w/ poly%d'%(m),'(x+2.)/np.cosh(x)'], loc='best')\n",
    "plt.show()\n",
    "print \"Derivada en x=0\"\n",
    "print \"Derivada de  (x+2.)/np.cosh(x) en x=0\"\n",
    "print \"evaluado: \", dfdx(0)\n",
    "print \"numerico: \", lsf_dfdx(0,coeff)\n",
    "print \"Derivada de  (x+2.)/np.cosh(x) en x=1\"\n",
    "print \"evaluado: \", dfdx(1)\n",
    "print \"numerico: \", lsf_dfdx(1,coeff)\n",
    "\n",
    "\n"
   ]
  },
  {
   "cell_type": "markdown",
   "metadata": {},
   "source": [
    " "
   ]
  }
 ],
 "metadata": {
  "anaconda-cloud": {},
  "celltoolbar": "Raw Cell Format",
  "kernelspec": {
   "display_name": "Python [conda env:py3k]",
   "language": "python",
   "name": "conda-env-py3k-py"
  },
  "language_info": {
   "codemirror_mode": {
    "name": "ipython",
    "version": 3
   },
   "file_extension": ".py",
   "mimetype": "text/x-python",
   "name": "python",
   "nbconvert_exporter": "python",
   "pygments_lexer": "ipython3",
   "version": "3.5.2"
  }
 },
 "nbformat": 4,
 "nbformat_minor": 0
}
