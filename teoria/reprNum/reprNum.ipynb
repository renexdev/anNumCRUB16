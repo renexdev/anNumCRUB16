{
 "cells": [
  {
   "cell_type": "markdown",
   "metadata": {},
   "source": [
    "Dr. René Cejas Bolecek, 2016\n",
    "Análisis Numérico del Profesorado y Licenciatura en Matemáticas de la Universidad de Comahue Regional Bariloche, Argentina\n",
    "\n",
    "https://github.com/renexdev/anNumCRUB16"
   ]
  },
  {
   "cell_type": "markdown",
   "metadata": {},
   "source": [
    "# Representación numérica de números reales"
   ]
  },
  {
   "cell_type": "code",
   "execution_count": 1,
   "metadata": {
    "collapsed": false
   },
   "outputs": [
    {
     "name": "stdout",
     "output_type": "stream",
     "text": [
      "Hola mundo\n"
     ]
    }
   ],
   "source": [
    "print \"Hola mundo\""
   ]
  },
  {
   "cell_type": "code",
   "execution_count": 2,
   "metadata": {
    "collapsed": false
   },
   "outputs": [
    {
     "name": "stdout",
     "output_type": "stream",
     "text": [
      "La representación computacional del real 0.1 es  0.1000000000000000055511151231257827021181583404541015625\n",
      "La representación computacional de sumar 10 veces el real 0.1 es  0.99999999999999988897769753748434595763683319091796875\n",
      "La suma de 0.1 + 0.2 da\n"
     ]
    },
    {
     "data": {
      "text/plain": [
       "0.30000000000000004"
      ]
     },
     "execution_count": 2,
     "metadata": {},
     "output_type": "execute_result"
    }
   ],
   "source": [
    "#Parte de la discusión sacada de https://docs.python.org/2/tutorial/floatingpoint.html\n",
    "import numpy as np\n",
    "from math import exp\n",
    "from decimal import Decimal\n",
    "#Opciones de redondeo, cantidad de digitos https://docs.python.org/2/library/decimal.html\n",
    "\n",
    "print \"La representación computacional del real 0.1 es \",Decimal(0.1)\n",
    "# Por que no da 0.1?\n",
    "#In the same way, no matter how many base 2 digits you’re willing to use, the decimal value 0.1 cannot be \n",
    "#represented exactly as a base 2 fraction. In base 2, 1/10 is the infinitely repeating fraction\n",
    "\n",
    "#Otra consecuencia\n",
    "\n",
    "sum = 0.0\n",
    "for i in range(10):\n",
    "    sum += 0.1\n",
    "print \"La representación computacional de sumar 10 veces el real 0.1 es \", Decimal(sum)\n",
    "# Por que no da 1?\n",
    "#The errors in Python float operations are inherited from the floating-point hardware, and on most machines are \n",
    "#on the order of no more than 1 part in 2**53 per operation. That’s more than adequate for most tasks, but you do \n",
    "#need to keep in mind that it’s not decimal arithmetic, and that every float operation can suffer a new rounding error.\n",
    "print \"La suma de 0.1 + 0.2 da\"\n",
    "0.1 + 0.2\n"
   ]
  },
  {
   "cell_type": "markdown",
   "metadata": {},
   "source": [
    "# Punto fijo "
   ]
  },
  {
   "cell_type": "code",
   "execution_count": 11,
   "metadata": {
    "collapsed": false
   },
   "outputs": [
    {
     "name": "stdout",
     "output_type": "stream",
     "text": [
      "9223372036854775807\n",
      "<type 'numpy.int64'>\n",
      "-9223372036854775808\n",
      "<type 'numpy.int64'>\n",
      "fuera de la funcion:  dentro de la funcion:  1\n",
      "2\n"
     ]
    },
    {
     "name": "stderr",
     "output_type": "stream",
     "text": [
      "/usr/local/lib/python2.7/dist-packages/ipykernel/__main__.py:4: RuntimeWarning: overflow encountered in long_scalars\n",
      "/usr/local/lib/python2.7/dist-packages/ipykernel/__main__.py:5: RuntimeWarning: overflow encountered in long_scalars\n"
     ]
    }
   ],
   "source": [
    "x = np.int64(2**(64-1)-1)\n",
    "print x\n",
    "print type(x)\n",
    "print x+1\n",
    "print type(x+1)\n",
    "\n",
    "def fn(x):\n",
    "    print \"dentro de la funcion: \",x\n",
    "    return x+1\n",
    "\n",
    "print \"fuera de la funcion: \",fn(1)\n",
    "#Que pasa si hacemos lo mismo con int64 y el respectivo cálculo del número máximo ???\n"
   ]
  },
  {
   "cell_type": "markdown",
   "metadata": {
    "collapsed": true
   },
   "source": [
    "# Aritmética"
   ]
  },
  {
   "cell_type": "code",
   "execution_count": 109,
   "metadata": {
    "collapsed": false
   },
   "outputs": [
    {
     "name": "stdout",
     "output_type": "stream",
     "text": [
      "Suma a+b (t = 5):  4.5558\n",
      "Errores relativos de x+y\n",
      "1.818e-05 (t = 5)\n",
      "9.091e-07 (t = 6)\n"
     ]
    }
   ],
   "source": [
    "from decimal import *\n",
    "from math import pi,sqrt\n",
    "#Definimos la cantidad de digitos en 5\n",
    "getcontext().prec = 5\n",
    "\n",
    "a = Decimal(pi)\n",
    "b = Decimal(sqrt(2))\n",
    "print \"Suma a+b (t = 5): \",(a+b)\n",
    "\n",
    "#Veamos los errores round-off en las siguientes operaciones artimeticas\n",
    "\n",
    "x = Decimal(5/7.)\n",
    "y = Decimal(1/3.)\n",
    "\n",
    "errRel = lambda x,xap: abs(x-float(xap))/abs(x)\n",
    "print \"Errores relativos de x+y\"\n",
    "print \"%.3e (t = 5)\"% errRel(22/21.,x+y)\n",
    "\n",
    "#Definimos la cantidad de digitos en 6\n",
    "getcontext().prec = 6\n",
    "#getcontext().rounding=ROUND_HALF_EVEN\n",
    "x = Decimal(5/7.)\n",
    "y = Decimal(1/3.)\n",
    "\n",
    "print \"%.3e (t = 6)\"% errRel(22/21.,x+y)\n",
    "#Expresar en notacion decimal..\n"
   ]
  },
  {
   "cell_type": "code",
   "execution_count": null,
   "metadata": {
    "collapsed": true
   },
   "outputs": [],
   "source": []
  }
 ],
 "metadata": {
  "celltoolbar": "Raw Cell Format",
  "kernelspec": {
   "display_name": "Python 2",
   "language": "python",
   "name": "python2"
  },
  "language_info": {
   "codemirror_mode": {
    "name": "ipython",
    "version": 2
   },
   "file_extension": ".py",
   "mimetype": "text/x-python",
   "name": "python",
   "nbconvert_exporter": "python",
   "pygments_lexer": "ipython2",
   "version": "2.7.10"
  }
 },
 "nbformat": 4,
 "nbformat_minor": 0
}
