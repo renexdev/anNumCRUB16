{
 "cells": [
  {
   "cell_type": "markdown",
   "metadata": {},
   "source": [
    "Dr. René Cejas Bolecek, 2016\n",
    "Análisis Numérico del Profesorado y Licenciatura en Matemáticas de la Universidad de Comahue Regional Bariloche, Argentina\n",
    "\n",
    "https://github.com/renexdev/anNumCRUB16"
   ]
  },
  {
   "cell_type": "markdown",
   "metadata": {},
   "source": [
    "# Roots of Equations"
   ]
  },
  {
   "cell_type": "markdown",
   "metadata": {},
   "source": [
    "- [Incremental Search Method](#Incremental Search Method)\n",
    "- [Método de Bisección](#Método de Bisección)\n",
    "- [Método de Ridder](#Método de Ridder)\n",
    "- [Método de Newton-Rapson](#Método de Newton-Rapson)\n",
    "\n",
    "\n"
   ]
  },
  {
   "cell_type": "markdown",
   "metadata": {},
   "source": [
    "# Incremental Search Method"
   ]
  },
  {
   "cell_type": "code",
   "execution_count": 2,
   "metadata": {
    "collapsed": false
   },
   "outputs": [
    {
     "name": "stdout",
     "output_type": "stream",
     "text": [
      "('x =', '0.7346')\n"
     ]
    },
    {
     "data": {
      "image/png": "[encoded data removed]",
      "text/plain": [
       "<matplotlib.figure.Figure at 0x7f27868d7410>"
      ]
     },
     "metadata": {},
     "output_type": "display_data"
    }
   ],
   "source": [
    "# Numerical Methods in Engineering with Python 3 3rd Edition (2013)\n",
    "# by Jaan Kiusalaas\n",
    "# Publisher: Cambridge University Press\n",
    "# ISBN-10: 1107033853\n",
    "# ISBN-13: 978-1107033856\n",
    "# EXAMPLE 4.1  p. 147\n",
    "\n",
    "import sys\n",
    "sys.path.append(\"./../../modules/\")\n",
    "import numpy as np\n",
    "import matplotlib.pyplot as plt\n",
    "from rootsearch import *\n",
    "%matplotlib inline\n",
    "\n",
    "\n",
    "P3 = lambda x: x**3 - 10.0*x**2 + 5.0\n",
    "\n",
    "x1 = 0.0; x2 = 1.0\n",
    "for i in range(4):\n",
    "    dx = (x2 - x1)/10.0\n",
    "    x1,x2 = rootsearch(P3,x1,x2,dx)\n",
    "x = (x1 + x2)/2.0\n",
    "\n",
    "print(\"x =\", \"{:6.4f}\".format(x))\n",
    "\n",
    "a=-2.\n",
    "b=2.\n",
    "\n",
    "x1 = np.linspace(a,b, num=500)\n",
    "y1 = np.array([P3(x1[i]) for i in range(len(x1))])\n",
    "\n",
    "\n",
    "plt.plot( x1, y1, linewidth=2.0)\n",
    "plt.plot( [a,b],[0.,0.], \"k-\")\n",
    "plt.plot(x, 0.,  'ro')\n",
    "plt.xlim([a,b])\n",
    "plt.show()"
   ]
  },
  {
   "cell_type": "markdown",
   "metadata": {},
   "source": [
    "$\\textbf{Tareas}$: \n",
    "- Qué problemas tiene el método con la función tan(x) en [0-2pi]"
   ]
  },
  {
   "cell_type": "markdown",
   "metadata": {},
   "source": [
    "# Método de Bisección"
   ]
  },
  {
   "cell_type": "code",
   "execution_count": 3,
   "metadata": {
    "collapsed": false
   },
   "outputs": [
    {
     "name": "stdout",
     "output_type": "stream",
     "text": [
      "Pasos:  14\n",
      "('x =', '0.7346')\n"
     ]
    }
   ],
   "source": [
    "# Numerical Methods in Engineering with Python 3 3rd Edition (2013)\n",
    "# by Jaan Kiusalaas\n",
    "# Publisher: Cambridge University Press\n",
    "# ISBN-10: 1107033853\n",
    "# ISBN-13: 978-1107033856\n",
    "# EXAMPLE 4.2  p. 150\n",
    "\n",
    "import sys\n",
    "sys.path.append(\"./../../modules/\")\n",
    "import numpy as np\n",
    "import matplotlib.pyplot as plt\n",
    "from bisection import *\n",
    "%matplotlib inline\n",
    "\n",
    "\n",
    "P3 = lambda x: x**3 - 10.0*x**2 + 5.0\n",
    "x = bisection(P3, 0.0, 1.0, tol = 1.0e-4)\n",
    "print(\"x =\", \"{:6.4f}\".format(x))"
   ]
  },
  {
   "cell_type": "code",
   "execution_count": 17,
   "metadata": {
    "collapsed": false
   },
   "outputs": [
    {
     "name": "stdout",
     "output_type": "stream",
     "text": [
      "\n",
      " Termino busqueda soluciones\n",
      "se encontraron 6 soluciones: \n",
      "[  0.           4.49340946   7.72525184  10.90412166  14.06619391\n",
      "  17.22075527]\n"
     ]
    },
    {
     "data": {
      "image/png": "[encoded data removed]",
      "text/plain": [
       "<matplotlib.figure.Figure at 0x7f53bab3cf90>"
      ]
     },
     "metadata": {},
     "output_type": "display_data"
    }
   ],
   "source": [
    "#!/usr/bin/python\n",
    "## example4_3\n",
    "import sys\n",
    "sys.path.append(\"./../../modules/\")\n",
    "import numpy as np\n",
    "import matplotlib.pyplot as plt\n",
    "from math import *\n",
    "from rootsearch import *\n",
    "from bisection import *\n",
    "%matplotlib inline\n",
    "\n",
    "f = lambda x: x - math.tan(x)\n",
    "a,b,dx = (.0, 20.0, 0.01)\n",
    "\n",
    "#i = 0\n",
    "a1 = a\n",
    "rootSols = []\n",
    "while True:\n",
    "    x1,x2 = rootsearch(f,a1,b,dx)\n",
    "    #print x1, x2\n",
    "    if x1 != None:\n",
    "        a1 = x2\n",
    "        root = bisection(f,x1,x2,1,1.0e-9)\n",
    "        if root != None: \n",
    "            #print(root)\n",
    "            rootSols.append(root)\n",
    "   \n",
    "    #i = i +1\n",
    "    if( x1 == None and x2 == None):# or  i>30): \n",
    "        print(\"\\n Termino busqueda soluciones\")\n",
    "        break\n",
    "print \"se encontraron %d soluciones: \"%(len(rootSols))\n",
    "print np.array([rootSols[i] for i in range(len(rootSols))])\n",
    "x1 = np.linspace(a,b, num=500)\n",
    "y1 = np.array([f(x1[i]) for i in range(len(x1))])\n",
    "\n",
    "plt.plot( x1, y1, linewidth=2.0)\n",
    "plt.plot( [a,b],[0.,0.], \"k-\")\n",
    "\n",
    "plt.plot( rootSols,np.array([0 for i in range(len(rootSols))]), \"ro\")\n",
    "\n",
    "plt.plot( [pi*0.5,pi*0.5],[-400.,800.], \"k-\")\n",
    "plt.xlim([a,b])\n",
    "plt.ylim([-10.,10.])\n",
    "plt.show()"
   ]
  },
  {
   "cell_type": "markdown",
   "metadata": {},
   "source": [
    "# Método de Ridder"
   ]
  },
  {
   "cell_type": "code",
   "execution_count": 1,
   "metadata": {
    "collapsed": false
   },
   "outputs": [
    {
     "data": {
      "image/png": "[encoded data removed]",
      "text/plain": [
       "<matplotlib.figure.Figure at 0x7f02e54f40d0>"
      ]
     },
     "metadata": {},
     "output_type": "display_data"
    },
    {
     "name": "stdout",
     "output_type": "stream",
     "text": [
      "Raiz en  0.58\n"
     ]
    }
   ],
   "source": [
    "#!/usr/bin/python\n",
    "## example4_5 p.156\n",
    "import sys\n",
    "sys.path.append(\"./../../modules/\")\n",
    "from ridder import *\n",
    "import numpy as np\n",
    "import matplotlib.pyplot as plt\n",
    "from math import *\n",
    "from rootsearch import *\n",
    "from bisection import *\n",
    "%matplotlib inline\n",
    "\n",
    "f = lambda x: 1.0/((x - 0.3)**2 + 0.01)- 1.0/((x - 0.8)**2 + 0.04)\n",
    "a = -2\n",
    "b = 2\n",
    "x1 = np.linspace(a,b, num=200)\n",
    "y1 = np.array([f(x1[i]) for i in range(len(x1))])\n",
    "plt.plot( x1, y1, linewidth=2.0)\n",
    "plt.plot( [a,b],[0.,0.], \"k-\")\n",
    "plt.plot( ridder(f,0.0,1.0),0.0, \"ro\")\n",
    "plt.xlim([a,b])\n",
    "\n",
    "plt.show()\n",
    "\n",
    "\n",
    "\n",
    "print \"Raiz en \",ridder(f,0.0,1.0)"
   ]
  },
  {
   "cell_type": "markdown",
   "metadata": {
    "collapsed": true
   },
   "source": [
    "# Método de Newton-Rapson"
   ]
  },
  {
   "cell_type": "code",
   "execution_count": 5,
   "metadata": {
    "collapsed": false
   },
   "outputs": [
    {
     "name": "stdout",
     "output_type": "stream",
     "text": [
      "Calcule el valor de sqrt(2)\n",
      "Root = 1.41421356237\n"
     ]
    }
   ],
   "source": [
    "#!/usr/bin/python\n",
    "## Ejemplo 4.6 p.159\n",
    "import sys\n",
    "sys.path.append(\"./../../modules/\")\n",
    "from ridder import *\n",
    "import numpy as np\n",
    "import matplotlib.pyplot as plt\n",
    "from math import *\n",
    "from newtonRaphson import *\n",
    "%matplotlib inline\n",
    "\n",
    "print \"Calcule el valor de sqrt(2)\"\n",
    "f = lambda x: x**2-2\n",
    "df = lambda x: 2*x\n",
    "a = 0\n",
    "b = 2\n",
    "\n",
    "root = newtonRaphson(f,df,a,b,1.0e-9)\n",
    "print \"Root =\",root\n"
   ]
  },
  {
   "cell_type": "code",
   "execution_count": 4,
   "metadata": {
    "collapsed": false
   },
   "outputs": [
    {
     "name": "stdout",
     "output_type": "stream",
     "text": [
      "Primero grafique la función para elegir un valor de x0 adecuado\n",
      "Root = 2.1000000007\n",
      "Number of iterations = 19\n"
     ]
    },
    {
     "data": {
      "image/png": "[encoded data removed]",
      "text/plain": [
       "<matplotlib.figure.Figure at 0x7ff4905b0510>"
      ]
     },
     "metadata": {},
     "output_type": "display_data"
    }
   ],
   "source": [
    "#!/usr/bin/python\n",
    "## Ejemplo 4.8 p.159\n",
    "import sys\n",
    "sys.path.append(\"./../../modules/\")\n",
    "from ridder import *\n",
    "import numpy as np\n",
    "import matplotlib.pyplot as plt\n",
    "from math import *\n",
    "from newtonRaphson import *\n",
    "%matplotlib inline\n",
    "\n",
    "\n",
    "f = lambda x:  x**4 - 6.4*x**3 + 6.45*x**2 + 20.538*x - 31.752\n",
    "df = lambda x:  4.0*x**3 - 19.2*x**2 + 12.9*x + 20.538\n",
    "\n",
    "def newtonRaphson(x,tol=1.0e-9):\n",
    "    for i in range(500):\n",
    "        dx = -2*f(x)/df(x)\n",
    "        x = x + dx\n",
    "        if abs(dx) < tol: return x,i\n",
    "    print 'Too many iterations'\n",
    "\n",
    "root,numIter = newtonRaphson(3.)\n",
    "print \"Primero grafique la función para elegir un valor de x0 adecuado\"\n",
    "print 'Root =',root\n",
    "print 'Number of iterations =',numIter\n",
    "\n",
    "a= 1\n",
    "b = 5\n",
    "\n",
    "x1 = np.linspace(a,b, num=200)\n",
    "y1 = np.array([f(x1[i]) for i in range(len(x1))])\n",
    "plt.plot( x1, y1, linewidth=2.0)\n",
    "plt.plot( [a,b],[0.,0.], \"k-\")\n",
    "plt.plot( root ,0.0, \"ro\")\n",
    "plt.xlim([a,b])\n",
    "\n",
    "plt.show()\n"
   ]
  },
  {
   "cell_type": "markdown",
   "metadata": {},
   "source": [
    "$\\textbf{Tareas}$: \n",
    "- Cambie el valor de $x_{\\rm 0}$ y discuta como es la convergencia global a cero del Método de N-R"
   ]
  },
  {
   "cell_type": "code",
   "execution_count": 3,
   "metadata": {
    "collapsed": false
   },
   "outputs": [
    {
     "name": "stdout",
     "output_type": "stream",
     "text": [
      "[ 0.59905376  2.3959314   2.00501484]\n"
     ]
    }
   ],
   "source": [
    "#!/usr/bin/python\n",
    "## Ejemplo 4.9 p.165\n",
    "import sys\n",
    "sys.path.append(\"./../../modules/\")\n",
    "from ridder import *\n",
    "from numpy import zeros,array\n",
    "import matplotlib.pyplot as plt\n",
    "from math import sin,log\n",
    "from newtonRaphsonSEnoL import *\n",
    "%matplotlib inline\n",
    "\n",
    "def f(x):\n",
    "    f = zeros((len(x)),dtype=float)\n",
    "    f[0] = sin(x[0]) + x[1]**2 + log(x[2]) - 7.0\n",
    "    f[1] = 3.0*x[0] + 2.0**x[1] - x[2]**3 + 1.0\n",
    "    f[2] = x[0] + x[1] + x[2] - 5.0\n",
    "    return f\n",
    "\n",
    "\n",
    "x = array([1.0, 1.0, 1.0])\n",
    "print newtonRaphsonSEnoL(f,x)"
   ]
  },
  {
   "cell_type": "code",
   "execution_count": 16,
   "metadata": {
    "collapsed": false
   },
   "outputs": [
    {
     "name": "stdout",
     "output_type": "stream",
     "text": [
      "Cuentas a mano, graficamos para estimar el valor de x0\n"
     ]
    },
    {
     "data": {
      "image/png": "[encoded data removed]",
      "text/plain": [
       "<matplotlib.figure.Figure at 0x7f7def096b50>"
      ]
     },
     "metadata": {},
     "output_type": "display_data"
    }
   ],
   "source": [
    "#!/usr/bin/python\n",
    "## Ejemplo 4.8 p.164\n",
    "import sys\n",
    "sys.path.append(\"./../../modules/\")\n",
    "from numpy import zeros,array\n",
    "import numpy as np\n",
    "import matplotlib.pyplot as plt\n",
    "from math import sin,log,sqrt\n",
    "from newtonRaphsonSEnoL import *\n",
    "%matplotlib inline\n",
    "\n",
    "print \"Cuentas a mano, graficamos para estimar el valor de x0\"\n",
    "\n",
    "f1 = lambda x: sqrt(3-x**2)\n",
    "f2 = lambda x: 1./(x*1.)\n",
    "\n",
    "a= -sqrt(3.)\n",
    "b = sqrt(3.)\n",
    "offset = 0.1\n",
    "x1 = np.linspace(a,b, num=200)\n",
    "y1a = np.array([f1(x1[i]) for i in range(len(x1))])\n",
    "y1b = np.array([-f1(x1[i]) for i in range(len(x1))])\n",
    "y2 = np.array([f2(x1[i]) for i in range(len(x1))])\n",
    "\n",
    "plt.plot( x1, y1a,\"k\",x1, y1b, \"k\",linewidth=2.0)\n",
    "plt.plot( x1, y2, linewidth=2.0)\n",
    "plt.plot( [a-offset,b+offset],[0.,0.], \"k-\")\n",
    "plt.xlim([a-offset,b+offset])\n",
    "plt.ylim([a-offset,b+offset])\n",
    "plt.show()\n"
   ]
  },
  {
   "cell_type": "code",
   "execution_count": null,
   "metadata": {
    "collapsed": true
   },
   "outputs": [],
   "source": []
  }
 ],
 "metadata": {
  "celltoolbar": "Raw Cell Format",
  "kernelspec": {
   "display_name": "Python 2",
   "language": "python",
   "name": "python2"
  },
  "language_info": {
   "codemirror_mode": {
    "name": "ipython",
    "version": 2
   },
   "file_extension": ".py",
   "mimetype": "text/x-python",
   "name": "python",
   "nbconvert_exporter": "python",
   "pygments_lexer": "ipython2",
   "version": "2.7.10"
  }
 },
 "nbformat": 4,
 "nbformat_minor": 0
}
