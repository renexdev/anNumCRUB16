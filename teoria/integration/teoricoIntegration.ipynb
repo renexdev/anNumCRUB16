{
 "cells": [
  {
   "cell_type": "markdown",
   "metadata": {},
   "source": [
    "Dr. René Cejas Bolecek, 2016\n",
    "Análisis Numérico del Profesorado y Licenciatura en Matemáticas de la Universidad de Comahue Regional Bariloche, Argentina\n",
    "\n",
    "https://github.com/renexdev/anNumCRUB16"
   ]
  },
  {
   "cell_type": "markdown",
   "metadata": {},
   "source": [
    "# Integration"
   ]
  },
  {
   "cell_type": "markdown",
   "metadata": {},
   "source": [
    "- [Trapezoid’s method](#Trapezoid’s method)\n",
    "- [Romberg integration](#Romberg integration)\n",
    "- [Gaussian integration](#Gaussian integration)"
   ]
  },
  {
   "cell_type": "markdown",
   "metadata": {},
   "source": [
    "# Trapezoid’s method"
   ]
  },
  {
   "cell_type": "code",
   "execution_count": 2,
   "metadata": {
    "collapsed": false
   },
   "outputs": [
    {
     "name": "stdout",
     "output_type": "stream",
     "text": [
      "Cambiar numero de subareas y ver convergencia del valor de la integral\n",
      "Valor de la integral =  -0.894831664853\n"
     ]
    },
    {
     "data": {
      "image/png": "[encoded data removed]",
      "text/plain": [
       "<matplotlib.figure.Figure at 0x7f3c31b09210>"
      ]
     },
     "metadata": {},
     "output_type": "display_data"
    }
   ],
   "source": [
    "# Numerical Methods in Engineering with Python 3 3rd Edition (2013)\n",
    "# by Jaan Kiusalaas\n",
    "# Publisher: Cambridge University Press\n",
    "# ISBN-10: 1107033853\n",
    "# ISBN-13: 978-1107033856\n",
    "# EXAMPLE 6.2  p. 205 \n",
    "# EXAMPLE 6.4  p. 207 \n",
    "\n",
    "import sys\n",
    "sys.path.append(\"./../../modules/\")\n",
    "import numpy as np\n",
    "import matplotlib.pyplot as plt\n",
    "from math import sqrt,cos,pi, sin\n",
    "from trapezoid import *\n",
    "%matplotlib inline\n",
    "\n",
    "#def f(x): return sin(x) # EXAMPLE 6.2  p. 205 \n",
    "def f(x): return sqrt(x)*cos(x) # EXAMPLE 6.4  p. 207 \n",
    "IList = []\n",
    "panelsMax = 50\n",
    "print \"Cambiar numero de subareas y ver convergencia del valor de la integral\"\n",
    "I0 = 0.\n",
    "ILast = 0.\n",
    "ITmp = 0.\n",
    "for i in range(2,panelsMax):\n",
    "    Iold = 0.0\n",
    "    for k in range(1,i):\n",
    "        Inew = trapezoid(f,0.0,pi,Iold,k)\n",
    "        if (i == 2): I0 = Inew\n",
    "        if (k > 1) and (abs(Inew - Iold)) < 1.0e-6: break\n",
    "        Iold = Inew\n",
    "    IList.append(Inew)\n",
    "#Set intervals for plotting\n",
    "ILast = Inew\n",
    "if (I0 > ILast): \n",
    "    ITmp = ILast\n",
    "    ILast  = I0\n",
    "    I0 = ITmp\n",
    "print \"Valor de la integral = \", Inew\n",
    "plt.plot(range(2,panelsMax), IList,\"k\",label=\"Metodo Trapecios\")    \n",
    "plt.ylabel('Integral numerica')\n",
    "plt.xlabel('Numero de subareas')\n",
    "plt.text(2+panelsMax*0.2, (I0+(ILast-I0)*0.5), 'Integral de sin(x) en 0 - pi') # EXAMPLE 6.2  p. 205 \n",
    "#plt.text(2+panelsMax*0.2, (I0+(ILast-I0)*0.5), 'Integral de x**0.5*cos(x) en 0 - pi') # EXAMPLE 6.4  p. 207 \n",
    "plt.text(2+panelsMax*0.2, (I0+(ILast-I0)*0.6), 'Valor de convergencia = %.8f'%Inew)\n",
    "plt.xlim(2,panelsMax)\n",
    "plt.ylim(I0-(ILast-I0)*0.05,ILast+(ILast-I0)*0.05)\n",
    "plt.legend(loc='best')\n",
    "plt.show()"
   ]
  },
  {
   "cell_type": "markdown",
   "metadata": {},
   "source": [
    "$\\textbf{Tareas}$: \n",
    "- Resolver en papel el ejercicio 6.4 y comparar con los resultados numéricos.\n",
    "- Graficar la diferencia I(k+1)-I(k) vs k para evaluar la convergencia"
   ]
  },
  {
   "cell_type": "markdown",
   "metadata": {
    "collapsed": true
   },
   "source": [
    "# Romberg integration"
   ]
  },
  {
   "cell_type": "code",
   "execution_count": 3,
   "metadata": {
    "collapsed": false
   },
   "outputs": [
    {
     "name": "stdout",
     "output_type": "stream",
     "text": [
      "Integral = -0.894831984367\n",
      "numEvals = 8192\n"
     ]
    }
   ],
   "source": [
    "# Numerical Methods in Engineering with Python 3 3rd Edition (2013)\n",
    "# by Jaan Kiusalaas\n",
    "# Publisher: Cambridge University Press\n",
    "# ISBN-10: 1107033853\n",
    "# ISBN-13: 978-1107033856\n",
    "# EXAMPLE 6.7  p. 211\n",
    "import sys\n",
    "sys.path.append(\"./../../modules/\")\n",
    "from math import cos,sqrt,pi\n",
    "from romberg import *\n",
    "\n",
    "#def f(x): return 2.0*(x**2)*cos(x**2)\n",
    "def f(x): return sqrt(x)*cos(x)\n",
    "#I,n = romberg(f,0,sqrt(pi))\n",
    "I,n = romberg(f,0,pi)\n",
    "print \"Integral =\",I\n",
    "print \"numEvals =\",n"
   ]
  },
  {
   "cell_type": "markdown",
   "metadata": {},
   "source": [
    "# Gaussian Integration"
   ]
  },
  {
   "cell_type": "code",
   "execution_count": null,
   "metadata": {
    "collapsed": true
   },
   "outputs": [],
   "source": []
  }
 ],
 "metadata": {
  "celltoolbar": "Raw Cell Format",
  "kernelspec": {
   "display_name": "Python 2",
   "language": "python",
   "name": "python2"
  },
  "language_info": {
   "codemirror_mode": {
    "name": "ipython",
    "version": 2
   },
   "file_extension": ".py",
   "mimetype": "text/x-python",
   "name": "python",
   "nbconvert_exporter": "python",
   "pygments_lexer": "ipython2",
   "version": "2.7.10"
  }
 },
 "nbformat": 4,
 "nbformat_minor": 0
}
