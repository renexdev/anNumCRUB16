{
 "cells": [
  {
   "cell_type": "markdown",
   "metadata": {},
   "source": [
    "Dr. René Cejas Bolecek, 2016\n",
    "Análisis Numérico del Profesorado y Licenciatura en Matemáticas de la Universidad de Comahue Regional Bariloche, Argentina\n",
    "\n",
    "https://github.com/renexdev/anNumCRUB16"
   ]
  },
  {
   "cell_type": "markdown",
   "metadata": {},
   "source": [
    "# Integration"
   ]
  },
  {
   "cell_type": "markdown",
   "metadata": {},
   "source": [
    "- [Trapezoid’s method](#Trapezoid’s method)"
   ]
  },
  {
   "cell_type": "markdown",
   "metadata": {},
   "source": [
    "# Trapezoid’s method"
   ]
  },
  {
   "cell_type": "code",
   "execution_count": 19,
   "metadata": {
    "collapsed": false
   },
   "outputs": [
    {
     "data": {
      "image/png": "[encoded data removed]",
      "text/plain": [
       "<matplotlib.figure.Figure at 0x7fe9d0a13f50>"
      ]
     },
     "metadata": {},
     "output_type": "display_data"
    }
   ],
   "source": [
    "# Numerical Methods in Engineering with Python 3 3rd Edition (2013)\n",
    "# by Jaan Kiusalaas\n",
    "# Publisher: Cambridge University Press\n",
    "# ISBN-10: 1107033853\n",
    "# ISBN-13: 978-1107033856\n",
    "# EXAMPLE 6.4  p. 207\n",
    "\n",
    "import sys\n",
    "sys.path.append(\"./../../modules/\")\n",
    "import numpy as np\n",
    "import matplotlib.pyplot as plt\n",
    "from math import sqrt,cos,pi\n",
    "from trapezoid import *\n",
    "%matplotlib inline\n",
    "\n",
    "def f(x): return sqrt(x)*cos(x)\n",
    "IList = []\n",
    "panelsMax = 100\n",
    "for i in range(2,panelsMax):\n",
    "    Iold = 0.0\n",
    "    for k in range(1,i):\n",
    "        Inew = trapezoid(f,0.0,pi,Iold,k)\n",
    "        if (k > 1) and (abs(Inew - Iold)) < 1.0e-6: break\n",
    "        Iold = Inew\n",
    "    #print \"Integral =\",Inew\n",
    "    IList.append(Inew)\n",
    "    #print \"nPanels =\",2**(k-1)\n",
    "\n",
    "plt.plot(range(2,panelsMax), IList,\"k\",label=\"Metodo Trapecios\")    \n",
    "plt.ylabel('Integral numerica')\n",
    "plt.xlabel('Numero de trapecios')\n",
    "plt.text(40, -1.5, 'Integral de x**0.5*cosx en 0 - pi')\n",
    "plt.text(40, -2.0, 'Valor de convergencia = %.8d'%Inew)\n",
    "plt.legend(loc='best')\n",
    "plt.show()"
   ]
  },
  {
   "cell_type": "markdown",
   "metadata": {},
   "source": [
    "$\\textbf{Tareas}$: \n",
    "- Resolver en papel el ejercicio 6.4 y comparar con los resultados numéricos."
   ]
  },
  {
   "cell_type": "code",
   "execution_count": null,
   "metadata": {
    "collapsed": true
   },
   "outputs": [],
   "source": []
  }
 ],
 "metadata": {
  "celltoolbar": "Raw Cell Format",
  "kernelspec": {
   "display_name": "Python 2",
   "language": "python",
   "name": "python2"
  },
  "language_info": {
   "codemirror_mode": {
    "name": "ipython",
    "version": 2
   },
   "file_extension": ".py",
   "mimetype": "text/x-python",
   "name": "python",
   "nbconvert_exporter": "python",
   "pygments_lexer": "ipython2",
   "version": "2.7.10"
  }
 },
 "nbformat": 4,
 "nbformat_minor": 0
}
