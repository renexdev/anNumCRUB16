{
 "cells": [
  {
   "cell_type": "markdown",
   "metadata": {},
   "source": [
    "Dr. René Cejas Bolecek, 2016\n",
    "Análisis Numérico del Profesorado y Licenciatura en Matemáticas de la Universidad de Comahue Regional Bariloche, Argentina\n",
    "\n",
    "https://github.com/renexdev/anNumCRUB16"
   ]
  },
  {
   "cell_type": "markdown",
   "metadata": {},
   "source": [
    "# Numerical Differentiation"
   ]
  },
  {
   "cell_type": "markdown",
   "metadata": {},
   "source": [
    "- [Central Difference Approximations](#Central Difference Approximations)\n",
    "- [Non Central Difference Approximations](#Non Central Difference Approximations)"
   ]
  },
  {
   "cell_type": "markdown",
   "metadata": {},
   "source": [
    "# Central Difference Approximation (CDA)"
   ]
  },
  {
   "cell_type": "code",
   "execution_count": 6,
   "metadata": {
    "collapsed": false
   },
   "outputs": [
    {
     "name": "stdout",
     "output_type": "stream",
     "text": [
      " Ejemplo cálculo de f''(x) de f(x)= exp(-x) en x=1 con CFA\n",
      "h\tf''(x)\t\terror\n",
      "------------------------------\n",
      "0.64 \t0.38060910 0.01272966\n",
      "0.32 \t0.37102941 0.00314997\n",
      "0.16 \t0.36866492 0.00078548\n",
      "0.08 \t0.36807569 0.00019624\n",
      "0.04 \t0.36792849 0.00004905\n",
      "0.02 \t0.36789170 0.00001226\n",
      "0.01 \t0.36788251 0.00000307\n",
      "0.005 \t0.36788021 0.00000077\n",
      "0.0025 \t0.36787963 0.00000019\n"
     ]
    }
   ],
   "source": [
    "import numpy as np\n",
    "from math import exp\n",
    "\n",
    "h = np.array([0.64/2**i for i in range(0,9)])\n",
    "\n",
    "fn = lambda x: exp(-x)\n",
    "\n",
    "\n",
    "fnCFD = lambda x, h: np.array([fn(x-2*h),fn(x-h),fn(x),fn(x+h),fn(x+2*h)])\n",
    "\n",
    "\n",
    "fnCFD2Coef = lambda h: np.array([0,1/h**2,-2/h**2,1/h**2,0])\n",
    "\n",
    "print \"Ejemplo cálculo de f''(x) de f(x)= exp(-x) en x=1 con CFA\"\n",
    "\n",
    "for j in range(len(h)):\n",
    "        if(j==0): print \"h\\tf''(x)\\t\\terror\\n------------------------------\"\n",
    "        print h[j],\"\\t\",\"%.8f\"%(sum(np.array([fnCFD(1,h[j])[i]*fnCFD2Coef(h[j])[i] for i in range(4)]))) ,\"%.8f\"%(sum(np.array([fnCFD(1,h[j])[i]*fnCFD2Coef(h[j])[i] for i in range(4)]))-exp(-1))\n"
   ]
  },
  {
   "cell_type": "markdown",
   "metadata": {},
   "source": [
    "# Richardson Extrapolation"
   ]
  },
  {
   "cell_type": "code",
   "execution_count": 30,
   "metadata": {
    "collapsed": false
   },
   "outputs": [
    {
     "name": "stdout",
     "output_type": "stream",
     "text": [
      "g1: 0.38060910 g2: 0.37102941 G: 0.36783619 \n",
      "Errores porcentuales\n",
      "E_g1: 3.46027914 E_g2: 0.85625138 E_G: 0.01175788\n"
     ]
    }
   ],
   "source": [
    "G = lambda h1,h2,g1,g2,p: ((h1/h2)**p*g2-g1)/((h1/h2)**p-1)\n",
    "error100 = lambda fabs,fnum: abs(fnum-fabs)/fabs*100.\n",
    "h1 = 0.64\n",
    "h2 = h1*0.5\n",
    "g1 = sum(np.array([fnCFD(1,h1)[i]*fnCFD2Coef(h1)[i] for i in range(4)]))\n",
    "g2 = sum(np.array([fnCFD(1,h2)[i]*fnCFD2Coef(h2)[i] for i in range(4)]))\n",
    "print \"g1: %.8f g2: %.8f G: %.8f \"% (g1,g2,G(h1,h2,g1,g2,2))\n",
    "print \"Errores porcentuales\"\n",
    "print \"E_g1: %.8f E_g2: %.8f E_G: %.8f\"% (error100(fn(1),g1),error100(fn(1),g2),error100(fn(1),G(h1,h2,g1,g2,2)))\n",
    "\n"
   ]
  },
  {
   "cell_type": "markdown",
   "metadata": {
    "collapsed": true,
    "raw_mimetype": "text/markdown"
   },
   "source": [
    "$\\textbf{Tareas}$: \n",
    "- arme un módulo del método de CFA fácil de importar en sus cálculos\n",
    "- implementar una version para calcular CFA con derivadas 3era y 4ta\n",
    "- aplicar a las funciones exp(-x) y sin(x)\n"
   ]
  }
 ],
 "metadata": {
  "celltoolbar": "Raw Cell Format",
  "kernelspec": {
   "display_name": "Python 2",
   "language": "python",
   "name": "python2"
  },
  "language_info": {
   "codemirror_mode": {
    "name": "ipython",
    "version": 2
   },
   "file_extension": ".py",
   "mimetype": "text/x-python",
   "name": "python",
   "nbconvert_exporter": "python",
   "pygments_lexer": "ipython2",
   "version": "2.7.10"
  }
 },
 "nbformat": 4,
 "nbformat_minor": 0
}
