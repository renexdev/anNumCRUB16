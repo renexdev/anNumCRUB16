{
 "cells": [
  {
   "cell_type": "markdown",
   "metadata": {},
   "source": [
    "Dr. René Cejas Bolecek, 2016 Análisis Numérico del Profesorado y Licenciatura en Matemáticas de la Universidad de Comahue Regional Bariloche, Argentina\n",
    "\n",
    "https://github.com/renexdev/anNumCRUB16\n"
   ]
  },
  {
   "cell_type": "markdown",
   "metadata": {},
   "source": [
    "# Nociones previas\n",
    "## Como importar los modulos?"
   ]
  },
  {
   "cell_type": "code",
   "execution_count": 36,
   "metadata": {
    "collapsed": true
   },
   "outputs": [],
   "source": [
    "import sys\n",
    "sys.path.append(\"./../../modules/\")\n",
    "from numpy import zeros\n",
    "from gaussElimin import *"
   ]
  },
  {
   "cell_type": "code",
   "execution_count": null,
   "metadata": {
    "collapsed": true
   },
   "outputs": [],
   "source": [
    "## Como importar los modulos?"
   ]
  },
  {
   "cell_type": "code",
   "execution_count": 35,
   "metadata": {
    "collapsed": false
   },
   "outputs": [
    {
     "name": "stdout",
     "output_type": "stream",
     "text": [
      "Impresion de matriz A\n",
      "[[ 6. -4.  1.]\n",
      " [-4.  6. -4.]\n",
      " [ 1. -4.  6.]]\n",
      "Impresion de filas:\n",
      "[ 6. -4.  1.]\n",
      "[-4.  6. -4.]\n",
      "[ 1. -4.  6.]\n",
      "10.0\n",
      "[ 10.  22.  14.]\n",
      "Chequear las implementaciones:\n",
      " * Probar que pasa si vuelvo a resolver el mismo sistema. Porque cambia la solucion?\n",
      " * Probar que pasa si resuelvo con numeros enteros\n",
      "Recomendacion: SIEMPRE realizar las verificaciones en papel\n",
      "La resolucion de un sistema mas simple puede utilizarse para detectar problemas en la implementacion\n",
      "\n",
      "Verificacion resultado: Ax - b =\n",
      "[  1.77635684e-15   2.13162821e-14   0.00000000e+00]\n"
     ]
    }
   ],
   "source": [
    "from numpy import zeros,array,product, diagonal,dot\n",
    "\n",
    "A = array([[6.,-4.,1.],[-4.,6.,-4.],[1.,-4.,6.]])\n",
    "\n",
    "print \"Impresion de matriz A\"\n",
    "print A\n",
    "print \"Impresion de filas:\"\n",
    "for i in range(0,3):\n",
    "    print A[i,0:3]\n",
    "\n",
    "b = array([-14.,36.,6.])\n",
    "\n",
    "AOrig = A.copy()    # Save original matrix\n",
    "bOrig = b.copy()    # and the constant vector\n",
    "\n",
    "\n",
    "x = gaussElimin(A,b)\n",
    "print x\n",
    "\n",
    "\n",
    "print \"Chequear las implementaciones:\"\n",
    "print \" * Probar que pasa si vuelvo a resolver el mismo sistema. Porque cambia la solucion?\"\n",
    "#x = gaussElimin(A,b)\n",
    "#print x\n",
    "#print A\n",
    "print \" * Probar que pasa si resuelvo con numeros enteros\"\n",
    "print \"Recomendacion: SIEMPRE realizar las verificaciones en papel\"\n",
    "print \"La resolucion de un sistema mas simple puede utilizarse para detectar problemas en la implementacion\"\n",
    "\n",
    "print '\\nVerificacion resultado: Ax - b =\\n', \\\n",
    "dot(AOrig,x) - bOrig\n",
    "\n"
   ]
  },
  {
   "cell_type": "code",
   "execution_count": null,
   "metadata": {
    "collapsed": true
   },
   "outputs": [],
   "source": []
  }
 ],
 "metadata": {
  "anaconda-cloud": {},
  "kernelspec": {
   "display_name": "Python [conda env:py3k]",
   "language": "python",
   "name": "conda-env-py3k-py"
  },
  "language_info": {
   "codemirror_mode": {
    "name": "ipython",
    "version": 3
   },
   "file_extension": ".py",
   "mimetype": "text/x-python",
   "name": "python",
   "nbconvert_exporter": "python",
   "pygments_lexer": "ipython3",
   "version": "3.5.2"
  }
 },
 "nbformat": 4,
 "nbformat_minor": 0
}
