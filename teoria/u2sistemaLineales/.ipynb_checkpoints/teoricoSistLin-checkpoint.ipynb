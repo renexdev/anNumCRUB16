{
 "cells": [
  {
   "cell_type": "markdown",
   "metadata": {},
   "source": [
    "Dr. René Cejas Bolecek, 2016\n",
    "Análisis Numérico del Profesorado y Licenciatura en Matemáticas de la Universidad de Comahue Regional Bariloche, Argentina\n",
    "\n",
    "https://github.com/renexdev/anNumCRUB16"
   ]
  },
  {
   "cell_type": "markdown",
   "metadata": {},
   "source": [
    "# Métodos iterativos"
   ]
  },
  {
   "cell_type": "markdown",
   "metadata": {},
   "source": [
    "- [Gauss-Seidel](#Gauss Seidel method)\n",
    "- [Jacobi](#Jacobi method)"
   ]
  },
  {
   "cell_type": "markdown",
   "metadata": {},
   "source": [
    "# Gauss-Seidel"
   ]
  },
  {
   "cell_type": "code",
   "execution_count": 1,
   "metadata": {
    "collapsed": false
   },
   "outputs": [],
   "source": [
    "import sys\n",
    "sys.path.append(\"./../../modules/\")\n",
    "from numpy import zeros\n",
    "from gaussSeidel import *"
   ]
  },
  {
   "cell_type": "code",
   "execution_count": 2,
   "metadata": {
    "collapsed": true
   },
   "outputs": [],
   "source": [
    "def iterEqs(x,omega):\n",
    "    n = len(x)\n",
    "    x[0] =omega*(x[1] - x[n-1])/2.0 + (1.0 - omega)*x[0]\n",
    "    for i in range(1,n-1):\n",
    "        x[i] = omega*(x[i-1] + x[i+1])/2.0 + (1.0 - omega)*x[i]\n",
    "    x[n-1] = omega*(1.0 - x[0] + x[n-2])/2.0 \\\n",
    "           + (1.0 - omega)*x[n-1]\n",
    "    return x"
   ]
  },
  {
   "cell_type": "code",
   "execution_count": 3,
   "metadata": {
    "collapsed": false
   },
   "outputs": [
    {
     "name": "stdout",
     "output_type": "stream",
     "text": [
      "Number of equations ==> 25\n",
      "\n",
      "Number of iterations = 339\n",
      "\n",
      "Relaxation factor = 1.71783101122\n",
      "\n",
      "The solution is:\n",
      "[-5.75 -5.25 -4.75 -4.25 -3.75 -3.25 -2.75 -2.25 -1.75 -1.25 -0.75 -0.25\n",
      "  0.25  0.75  1.25  1.75  2.25  2.75  3.25  3.75  4.25  4.75  5.25  5.75\n",
      "  6.25]\n"
     ]
    }
   ],
   "source": [
    "n = eval(raw_input(\"Number of equations ==> \"))\n",
    "x = zeros((n),dtype=float)\n",
    "x,numIter,omega = gaussSeidel(iterEqs,x)\n",
    "print \"\\nNumber of iterations =\",numIter\n",
    "print \"\\nRelaxation factor =\",omega\n",
    "print \"\\nThe solution is:\\n\",x"
   ]
  },
  {
   "cell_type": "markdown",
   "metadata": {},
   "source": [
    "Ejemplo tomado de Numerical Methods in Engineering with Python 3 3rd Edition (2013), Jaan Kiusalaas. Cambridge University Press. ISBN-10: 1107033853. ISBN-13: 978-1107033856"
   ]
  },
  {
   "cell_type": "markdown",
   "metadata": {},
   "source": [
    "# Jacobi"
   ]
  },
  {
   "cell_type": "code",
   "execution_count": 4,
   "metadata": {
    "collapsed": false
   },
   "outputs": [],
   "source": [
    "from jacobi import *\n",
    "from util import *"
   ]
  },
  {
   "cell_type": "code",
   "execution_count": 12,
   "metadata": {
    "collapsed": false
   },
   "outputs": [
    {
     "name": "stdout",
     "output_type": "stream",
     "text": [
      "Linear system:\n",
      "10.0*x1 + -1.0*x2 + 2.0*x3 + 0.0*x4=6.00\t (1)\n",
      "-1.0*x1 + 11.0*x2 + -1.0*x3 + 3.0*x4=25.00\t (2)\n",
      "2.0*x1 + -1.0*x2 + 10.0*x3 + -1.0*x4=-11.00\t (3)\n",
      "0.0*x1 + 3.0*x2 + -1.0*x3 + 8.0*x4=15.00\t (4)\n",
      "\n",
      "iteration number ==> 25\n",
      "\n",
      " Relaxation factor = 1\n",
      "\n",
      " The solution is:  [ 1.  2. -1.  1.]\n"
     ]
    }
   ],
   "source": [
    "# initialize the matrix\n",
    "A = np.array([[10., -1., 2., 0.],\n",
    "              [-1., 11., -1., 3.],\n",
    "              [2., -1., 10., -1.],\n",
    "              [0.0, 3., -1., 8.]])\n",
    "# initialize the RHS vector\n",
    "b = np.array([6., 25., -11., 15.])\n",
    "LEPrint(A,b)\n",
    "guess = array([1.0,1.0,1.0,1.0])\n",
    "print \n",
    "nIter = eval(raw_input(\"iteration number ==> \"))\n",
    "x = zeros(4,dtype=float)\n",
    "sol = jacobi(A,b,N=nIter,x=guess)\n",
    "\n",
    "print \"\\n Relaxation factor =\",1\n",
    "print \"\\n The solution is: \",sol"
   ]
  },
  {
   "cell_type": "markdown",
   "metadata": {
    "collapsed": true,
    "raw_mimetype": "text/markdown"
   },
   "source": [
    "$\\textbf{Tareas}$: \n",
    "- implementar una version con relajación del método de Jacobi\n",
    "- implementar la impresión en pantalla del error en cada paso de iteración\n"
   ]
  }
 ],
 "metadata": {
  "celltoolbar": "Raw Cell Format",
  "kernelspec": {
   "display_name": "Python [conda env:py3k]",
   "language": "python",
   "name": "conda-env-py3k-py"
  },
  "language_info": {
   "codemirror_mode": {
    "name": "ipython",
    "version": 3
   },
   "file_extension": ".py",
   "mimetype": "text/x-python",
   "name": "python",
   "nbconvert_exporter": "python",
   "pygments_lexer": "ipython3",
   "version": "3.5.2"
  }
 },
 "nbformat": 4,
 "nbformat_minor": 0
}
